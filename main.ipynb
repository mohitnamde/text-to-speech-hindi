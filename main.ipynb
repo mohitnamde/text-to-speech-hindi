{
 "cells": [
  {
   "cell_type": "markdown",
   "id": "159f1727",
   "metadata": {},
   "source": [
    "# text-to-speech-hindi"
   ]
  },
  {
   "cell_type": "code",
   "execution_count": 22,
   "id": "92d8ea88",
   "metadata": {
    "scrolled": true
   },
   "outputs": [],
   "source": [
    "# import matplotlib.pyplot as plt\n",
    "import sounddevice as sd\n",
    "import soundfile as sf\n",
    "from scipy.io.wavfile import write\n",
    "import os\n",
    "import numpy as np"
   ]
  },
  {
   "cell_type": "code",
   "execution_count": 23,
   "id": "d8ff55c7",
   "metadata": {
    "scrolled": true
   },
   "outputs": [],
   "source": [
    "char = ['s', 'अ', 'आ', 'इ', 'ई', 'उ', 'ऊ', 'ॠ', 'ए', 'ऐ', 'ओ', 'औ', 'अं', 'अ:', 'क्', 'क', 'का', 'कि', 'की', 'कु', 'कू', 'के', 'कै', 'को', 'कौ', 'कं', 'कः', 'ख्', 'ख', 'खा', 'खि', 'खी', 'खु', 'खू', 'खे', 'खै', 'खो', 'खौ', 'खं', 'खः', 'ग', 'ग्', 'गा', 'गि', 'गी', 'गु', 'गू', 'गे', 'गै', 'गो', 'गौ', 'गं', 'गः', 'घ्', 'घ', 'घा', 'घि', 'घी', 'घु', 'घू', 'घे', 'घै', 'घो', 'घौ', 'घं', 'घः', 'ड़्', 'ड़', 'ड़ा', 'ड़ि', 'ड़ी', 'ड़ु', 'ड़ू', 'ड़े', 'ड़ै', 'ड़ो', 'ड़ौ', 'ड़ं', 'ड़ः', 'ट्', 'ट', 'टा', 'टि', 'टी', 'टु', 'टू', 'टे', 'टै', 'टो', 'टौ', 'टं', 'टः', 'ठ्', 'ठ', 'ठा', 'ठि', 'ठी', 'ठु', 'ठू', 'ठे', 'ठै', 'ठो', 'ठौ', 'ठं', 'ठः', 'ड्', 'ड', 'डा', 'डि', 'डी', 'डु', 'डू', 'डे', 'डै', 'डो', 'डौ', 'डं', 'डः', 'ढ्', 'ढ', 'ढा', 'ढि', 'ढी', 'ढु', 'ढू', 'ढे', 'ढै', 'ढो', 'ढौ', 'ढं', 'ढः', 'ण्', 'ण', 'णा', 'णि', 'णी', 'णु', 'णू', 'णे', 'णै', 'णो', 'णौ', 'णं', 'णः', 'च्', 'च', 'चा', 'चि', 'ची', 'चु', 'चू', 'चे', 'चै', 'चो', 'चौ', 'चं', 'चः', 'छ्', 'छ', 'छा', 'छि', 'छी', 'छु', 'छू', 'छे', 'छै', 'छो', 'छौ', 'छं', 'छः', 'ज्', 'ज', 'जा', 'जि', 'जी', 'जु', 'जू', 'जे', 'जै', 'जो', 'जौ', 'जं', 'जः', 'झ्', 'झ', 'झा', 'झि', 'झी', 'झु', 'झू', 'झे', 'झै', 'झो', 'झौ', 'झं', 'झः', 'ञ्', 'ञ', 'ञा', 'ञि', 'ञी', 'ञु', 'ञू', 'ञे', 'ञै', 'ञो', 'ञौ', 'ञं', 'ञः', 'त्', 'त', 'ता', 'ति', 'ती', 'तु', 'तू', 'ते', 'तै', 'तो', 'तौ', 'तं', 'तः', 'थ्', 'थ', 'था', 'थि', 'थी', 'थु', 'थू', 'थे', 'थै', 'थो', 'थौ', 'थं', 'थः', 'द्', 'द', 'दा', 'दि', 'दी', 'दु', 'दू', 'दे', 'दै', 'दो', 'दौ', 'दं', 'दः', 'ध्', 'ध', 'धा', 'धि', 'धी', 'धु', 'धू', 'धे', 'धै', 'धो', 'धौ', 'धं', 'धः', 'न्', 'न', 'ना', 'नि', 'नी', 'नु', 'नू', 'ने', 'नै', 'नो', 'नौ', 'नं', 'नः', 'प्', 'प', 'पा', 'पि', 'पी', 'पु', 'पू', 'पे', 'पै', 'पो', 'पौ', 'पं', 'पः', 'फ्', 'फ', 'फा', 'फि', 'फी', 'फु', 'फू', 'फे', 'फै', 'फो', 'फौ', 'फं', 'फः', 'ब्', 'ब', 'बा', 'बि', 'बी', 'बु', 'बू', 'बे', 'बै', 'बो', 'बौ', 'बं', 'बः', 'भ्', 'भ', 'भा', 'भि', 'भी', 'भु', 'भू', 'भे', 'भै', 'भो', 'भौ', 'भं', 'भः', 'म्', 'म', 'मा', 'मि', 'मी', 'मु', 'मू', 'मे', 'मै', 'मो', 'मौ', 'मं', 'मः', 'य्', 'य', 'या', 'यि', 'यी', 'यु', 'यू', 'ये', 'यै', 'यो', 'यौ', 'यं', 'यः', 'र्', 'र', 'रा', 'रि', 'री', 'रु', 'रू', 'रे', 'रै', 'रो', 'रौ', 'रं', 'रः', 'ल्', 'ल', 'ला', 'लि', 'ली', 'लु', 'लू', 'ले', 'लै', 'लो', 'लौ', 'लं', 'लः', 'व्', 'व', 'वा', 'वि', 'वी', 'वु', 'वू', 'वे', 'वै', 'वो', 'वौ', 'वं', 'ळः', 'श्', 'श', 'शा', 'शि', 'शी', 'शु', 'शू', 'शे', 'शै', 'शो', 'शौ', 'शं', 'वः', 'ष्', 'ष', 'षा', 'षि', 'षी', 'षु', 'षू', 'षे', 'षै', 'षो', 'षौ', 'षं', 'शः', 'स्', 'स', 'सा', 'सि', 'सी', 'सु', 'सू', 'से', 'सै', 'सो', 'सौ', 'सं', 'षः', 'ह्', 'ह', 'हा', 'हि', 'ही', 'हु', 'हू', 'हे', 'है', 'हो', 'हौ', 'हं', 'सः', 'कृ', 'खृ', 'गृ', 'घृ', 'ड़', 'टृ', 'ठृ', 'डृ', 'ढृ', 'णृ', 'चृ', 'छृ', 'हः', 'झृ', 'ञृ', 'तृ', 'थृ', 'दृ', 'धृ', 'नृ', 'पृ', 'फृ', 'बृ', 'भृ', 'मृ', 'यृ', 'रृ', 'लृ', 'वृ', 'शृ', 'षृ', 'सृ', 'क्षृ', 'हृ', 'त्रृ', 'ज्ञृ']\n",
    "files = os.listdir(\"data//main//\")\n",
    "chard = []\n",
    "for i in range(len(files)):\n",
    "    file = \"data//main//\"+ str(files[i])\n",
    "    data, fs = sf.read(file)\n",
    "    chard.append(data)\n",
    "    \n",
    "# chard"
   ]
  },
  {
   "cell_type": "code",
   "execution_count": null,
   "id": "3e59f228",
   "metadata": {},
   "outputs": [],
   "source": []
  },
  {
   "cell_type": "markdown",
   "id": "ca62f10c",
   "metadata": {},
   "source": [
    "# Word tokenise"
   ]
  },
  {
   "cell_type": "code",
   "execution_count": 54,
   "id": "956a3210",
   "metadata": {
    "scrolled": true
   },
   "outputs": [
    {
     "name": "stdout",
     "output_type": "stream",
     "text": [
      "['मोहित', 'नामदेव']\n"
     ]
    }
   ],
   "source": [
    "# data = \"\"\"अवुल पकिर जैनुलाब्दीन अब्दुल कलाम, जो मिसाइल मैन और जनता के राष्ट्रपति नाम से भी जाने जाते हैं, भारतीय गणतंत्र के ग्यारहवें निर्वाचित राष्ट्रपति थे। वे भारत के पूर्व राष्ट्रपति, जानेमाने वैज्ञानिक और अभियंता (इंजीनियर) के रूप में विख्यात थे। उन्होंने सिखाया जीवन में चाहें जैसे भी परिस्थिति क्यों न हो पर जब आप अपने सपने को पूरा करने की ठान लेते हैं तो उन्हें पूरा करके ही रहते हैं। अब्दुल कलाम मसऊदी के विचार आज भी युवा पीढ़ी को आगे बढ़ने के लिए प्रेरित करते हैं। इन्होंने मुख्य रूप से एक वैज्ञानिक और विज्ञान के व्यवस्थापक के रूप में चार दशकों तक रक्षा अनुसंधान एवं विकास संगठन (डीआरडीओ) और भारतीय अंतरिक्ष अनुसंधान संगठन (इसरो) संभाला व भारत के नागरिक अंतरिक्ष कार्यक्रम और सैन्य मिसाइल के विकास के प्रयासों में भी शामिल रहे। इन्हें बैलेस्टिक मिसाइल और प्रक्षेपण यान प्रौद्योगिकी के विकास के कार्यों के लिए भारत में 'मिसाइल मैन' के रूप में जाना जाता है। इन्होंने 1974 में भारत द्वारा पहले मूल परमाणु परीक्षण के बाद से दूसरी बार 1998 में भारत के पोखरान-द्वितीय परमाणु परीक्षण में एक निर्णायक, संगठनात्मक, तकनीकी और राजनैतिक भूमिका निभाई। कलाम सत्तारूढ़ भारतीय जनता पार्टी व विपक्षी भारतीय राष्ट्रीय कांग्रेस दोनों के समर्थन के साथ 2002 में भारत के राष्ट्रपति चुने गए।  पांच वर्ष की अवधि की सेवा के बाद, वह शिक्षा, लेखन और सार्वजनिक सेवा के अपने नागरिक जीवन में लौट आए। इन्होंने भारत रत्न, भारत के सर्वोच्च नागरिक सम्मान सहित कई प्रतिष्ठित पुरस्कार प्राप्त किये।\"\"\"\n",
    "# data = \"\"\"कलाम ने मद्रास इंस्टीट्यूट ऑफ टेक्नोलॉजी से एयरोनॉटिकल इंजीनियरिंग में डिग्री हासिल की और 1958 में रक्षा अनुसंधान और विकास संगठन में शामिल हो गए। 1969 में वे में चले गएभारतीय अंतरिक्ष अनुसंधान संगठन , जहां वे के परियोजना निदेशक थे, पहला उपग्रह प्रक्षेपण यान , जिसे भारत में डिजाइन और निर्मित किया गया था। 1982 में डीआरडीओ में फिर से शामिल हुए, कलाम ने कई सफल मिसाइलों का निर्माण करने वाले कार्यक्रम की योजना बनाई, जिससे उन्हें \"मिसाइल मैन\" उपनाम प्राप्त करने में मदद मिली। उन सफलताओं में भारत की पहली मध्यवर्ती दूरी की बैलिस्टिक मिसाइल अग्नि थी , जिसमें SLV-III के पहलुओं को शामिल किया गया था और इसे 1989 में लॉन्च किया गया था।\"\"\"\n",
    "# data = \"\"\"अवुल पकिर जैनुलाब्दीन अब्दुल कलाम, जो मिसाइल मैन और जनता के राष्ट्रपति नाम से भी जाने जाते हैं\"\"\"\n",
    "\n",
    "# data = \"\"\"अवुल पकिर जैनुलाब्दीन \"\"\"\n",
    "data = \"\"\"मोहित नामदेव\"\"\"\n",
    "\n",
    "for i in range(3):\n",
    "    data = data.replace(\"\\n\\n\",\"\")\n",
    "\n",
    "\n",
    "word_lis = []\n",
    "temp = \"\"\n",
    "n = 0\n",
    "\n",
    "# word tokanise\n",
    "for i in data:\n",
    "    n+=1\n",
    "#     print(i)\n",
    "    if i != \" \" :\n",
    "        temp = temp+i\n",
    "        if n == len(data) or i == \"\\n\":\n",
    "            word_lis.append(temp)\n",
    "            \n",
    "    else:\n",
    "#         print(temp)\n",
    "        word_lis.append(temp)\n",
    "        temp = \"\"\n",
    "        \n",
    "\n",
    "print(word_lis)\n",
    "    "
   ]
  },
  {
   "cell_type": "code",
   "execution_count": 55,
   "id": "57b53e36",
   "metadata": {},
   "outputs": [
    {
     "data": {
      "text/plain": [
       "4"
      ]
     },
     "execution_count": 55,
     "metadata": {},
     "output_type": "execute_result"
    }
   ],
   "source": [
    "data = word_lis[0]\n",
    "data.index(data[len(data)-1])"
   ]
  },
  {
   "cell_type": "markdown",
   "id": "1a6b3747",
   "metadata": {},
   "source": [
    "# character saprable code"
   ]
  },
  {
   "cell_type": "code",
   "execution_count": 56,
   "id": "0b4f7fbe",
   "metadata": {},
   "outputs": [
    {
     "name": "stdout",
     "output_type": "stream",
     "text": [
      "\n",
      " word :  0  :  5\n",
      "1  :  म\n",
      "if : \n",
      "2  :  ो\n",
      "elif_2 : \n",
      "elif 2.1 :  मो\n",
      "3  :  ह\n",
      "if : \n",
      "4  :  ि\n",
      "elif_2 : \n",
      "elif 2.1 :  हि\n",
      "5  :  त\n",
      "if : \n",
      "if last:  त\n",
      "\n",
      " word :  1  :  6\n",
      "1  :  न\n",
      "if : \n",
      "2  :  ा\n",
      "elif_2 : \n",
      "elif 2.1 :  ना\n",
      "3  :  म\n",
      "if : \n",
      "4  :  द\n",
      "elif_1 : \n",
      "elif 1.1 :  म\n",
      "5  :  े\n",
      "elif_2 : \n",
      "elif 2.1 :  दे\n",
      "6  :  व\n",
      "if : \n",
      "if last:  व\n"
     ]
    }
   ],
   "source": [
    "condition1 = [ \"अ\", \"आ\", \"इ\", \"ई\", \"उ\", \"ऊ\", \"ऋ\", \"ए\", \"ऐ\", \"ओ\", \"औ\", \"क\", \"ख\", \"ग\", \"घ\", \"ड़\", \"ट\", \"ठ\", \"ड\", \"ढ\", \"ण\", \"च\", \"छ\", \"ज\", \"झ\", \"ञ\", \"त\", \"थ\", \"द\", \"ध\", \"न\", \"प\", \"फ\", \"ब\", \"भ\", \"म\", \"य\", \"र\", \"ल\", \"व\", \"श\", \"ष\", \"स\", \"ह\"]\n",
    "condition2 = ['्', 'ा', 'ि','ी', 'ु', 'ू', 'े', 'ै', 'ो', 'ौ', 'ं', 'ः', 'ृ']\n",
    "condition3 = [\",\", \"।\"]\n",
    "condition4 = [\"१\", \"२\", \"३\", \"४\", \"५\", \"६\", \"७\", \"८\", \"९\", \"०\", \"\\\"\", \"\\'\", \"(\", \")\", \"[\", \"]\", \"₹\"]\n",
    "\n",
    "templis1 = []\n",
    "templis2 = []\n",
    "\n",
    "for j in range(len(word_lis)):\n",
    "    print(\"\\n\",\"word : \",str(j),\" : \",str(len(word_lis[j])))\n",
    "    data = word_lis[j]\n",
    "    templis1 = []\n",
    "    tempChar = \"\"\n",
    "    n = 0\n",
    "    m = 0\n",
    "    num = 0\n",
    "#     last_char = data.index(data[len(data)-1],-1)\n",
    "    #####################################################\n",
    "    for i in data:\n",
    "        num += 1\n",
    "        print(str(num),\" : \",i)\n",
    "        \n",
    "        if (i in condition1) and (n == 0) :\n",
    "            print(\"if : \")\n",
    "            tempChar = tempChar+i\n",
    "            n=1\n",
    "            m=0\n",
    "            if (num == len(data)):\n",
    "                templis1.append(tempChar)\n",
    "                print(\"if last: \",tempChar)\n",
    "             #####################################################   \n",
    "                \n",
    "        elif (i in condition1) and (n == 1):\n",
    "            print(\"elif_1 : \")\n",
    "            templis1.append(tempChar)\n",
    "            print(\"elif 1.1 : \",tempChar)\n",
    "            tempChar = i\n",
    "            if (i in condition1):\n",
    "                n=1\n",
    "            else:\n",
    "                n=0\n",
    "                \n",
    "#             if (data.index(i) == len(data)-n):\n",
    "#                 templis1.append(tempChar)\n",
    "#                 print(\"elif 1.2 : \",tempChar)\n",
    "             #####################################################\n",
    "                \n",
    "        elif (i in condition2) :\n",
    "            print(\"elif_2 : \")\n",
    "            if (m==0) : \n",
    "                tempChar = tempChar+i\n",
    "                templis1.append(tempChar)\n",
    "                print(\"elif 2.1 : \",tempChar)\n",
    "                tempChar = \"\"\n",
    "                n = 0\n",
    "                m = 1\n",
    "            elif (i == 'ं') and (m==1):\n",
    "                templis1[-1] += i\n",
    "                print(\"elif 2.1 : \",templis1[-1])\n",
    "                n = 0\n",
    "                m = 0\n",
    "            #####################################################\n",
    "            \n",
    "        elif (i in condition3):\n",
    "            print(\"elif_3 : \")\n",
    "            tempChar = tempChar+\"s\"   # In sound database s is for \"Non sounding effect\".\n",
    "            templis1.append(tempChar)\n",
    "            templis1 = \"\"\n",
    "            #####################################################\n",
    "            \n",
    "        elif (i in condition4):\n",
    "            print(\"elif_4 : \")\n",
    "            tempChar = tempChar+i\n",
    "            templis1.append(tempChar)\n",
    "            templis1 = \"\"\n",
    "            #####################################################\n",
    "            \n",
    "        elif True :\n",
    "            tempChar = \"\"\n",
    "            \n",
    "    #####################################################     \n",
    "    templis2.append(templis1)\n",
    "    \n",
    "# complete"
   ]
  },
  {
   "cell_type": "code",
   "execution_count": 57,
   "id": "63f1f5ef",
   "metadata": {},
   "outputs": [
    {
     "data": {
      "text/plain": [
       "[['मो', 'हि', 'त'], ['ना', 'म', 'दे', 'व']]"
      ]
     },
     "execution_count": 57,
     "metadata": {},
     "output_type": "execute_result"
    }
   ],
   "source": [
    "templis2[:]"
   ]
  },
  {
   "cell_type": "markdown",
   "id": "78d5e0da",
   "metadata": {},
   "source": [
    "# playing text to speech"
   ]
  },
  {
   "cell_type": "code",
   "execution_count": 58,
   "id": "f0a5341b",
   "metadata": {},
   "outputs": [
    {
     "name": "stdout",
     "output_type": "stream",
     "text": [
      "Start :  0\n",
      "मो\n",
      "हि\n",
      "त\n",
      "Start :  1\n",
      "ना\n",
      "म\n",
      "दे\n",
      "व\n"
     ]
    }
   ],
   "source": [
    "templis3 = []\n",
    "\n",
    "\n",
    "for i in range(len(templis2)):\n",
    "    z = []\n",
    "    print(\"Start : \",i)\n",
    "    data = templis2[i]\n",
    "    for j in range(len(data)):\n",
    "        print(data[j])\n",
    "        z.extend((chard[char.index(data[j])]).tolist())\n",
    "    templis3.append(z)\n"
   ]
  },
  {
   "cell_type": "code",
   "execution_count": 59,
   "id": "fcbf5518",
   "metadata": {},
   "outputs": [
    {
     "name": "stdout",
     "output_type": "stream",
     "text": [
      "templis3 len :  2\n"
     ]
    }
   ],
   "source": [
    "print(\"templis3 len : \",len(templis3))\n",
    "sd.play(templis3[0])\n",
    "sd.wait()\n",
    "sd.play(templis3[1])\n",
    "sd.wait()\n"
   ]
  },
  {
   "cell_type": "code",
   "execution_count": null,
   "id": "00bfbd6e",
   "metadata": {},
   "outputs": [],
   "source": []
  },
  {
   "cell_type": "code",
   "execution_count": null,
   "id": "a5074b5b",
   "metadata": {},
   "outputs": [],
   "source": []
  },
  {
   "cell_type": "code",
   "execution_count": null,
   "id": "3a59fe41",
   "metadata": {},
   "outputs": [],
   "source": []
  },
  {
   "cell_type": "markdown",
   "id": "559cfbae",
   "metadata": {},
   "source": [
    "# Ruf work"
   ]
  },
  {
   "cell_type": "code",
   "execution_count": 4,
   "id": "f8d21dae",
   "metadata": {
    "scrolled": true
   },
   "outputs": [
    {
     "name": "stdout",
     "output_type": "stream",
     "text": [
      "d :  Mohit\n",
      "data :  mohit\n"
     ]
    }
   ],
   "source": [
    "data = \"mohit\"\n",
    "d = data.replace(\"m\",\"M\")\n",
    "print(\"d : \", d)\n",
    "print(\"data : \", data)"
   ]
  },
  {
   "cell_type": "code",
   "execution_count": 5,
   "id": "5dff3978",
   "metadata": {},
   "outputs": [
    {
     "data": {
      "text/plain": [
       "['0', '0', '0', '0']"
      ]
     },
     "execution_count": 5,
     "metadata": {},
     "output_type": "execute_result"
    }
   ],
   "source": [
    "l = [\"1\",\"2\",\"3\",\"4\"]\n",
    "d = []\n",
    "for i in range(4):\n",
    "    d.append(l[0].replace(\"1\",\"0\"))\n",
    "d"
   ]
  },
  {
   "cell_type": "code",
   "execution_count": 6,
   "id": "7294dcc4",
   "metadata": {},
   "outputs": [
    {
     "name": "stdout",
     "output_type": "stream",
     "text": [
      "['1', '2', '3', '4', [...]]\n",
      "4\n",
      "['1', '2', '3', '4', [...]] \n",
      "\n",
      "['1', '2', '3', '4', ['1', '2', '3', '4']]\n"
     ]
    }
   ],
   "source": [
    "l = [\"1\",\"2\",\"3\",\"4\"]\n",
    "l.append(l)\n",
    "print(l)\n",
    "print(l[3])\n",
    "print(l[4], \"\\n\")\n",
    "\n",
    "\n",
    "h = [\"1\",\"2\",\"3\",\"4\"]\n",
    "h.append(h[:])\n",
    "print(h)"
   ]
  },
  {
   "cell_type": "code",
   "execution_count": 38,
   "id": "86ffedb9",
   "metadata": {},
   "outputs": [
    {
     "name": "stdout",
     "output_type": "stream",
     "text": [
      "क \n",
      "\n",
      "ृ \n",
      "\n",
      "ी \n",
      "\n"
     ]
    }
   ],
   "source": [
    "z = lis3[2]\n",
    "z = z[4]\n",
    "# print(z,\"\\n\")\n",
    "\n",
    "for i in z:\n",
    "    print(i,\"\\n\")"
   ]
  },
  {
   "cell_type": "code",
   "execution_count": 27,
   "id": "5b65a4f7",
   "metadata": {},
   "outputs": [
    {
     "name": "stdout",
     "output_type": "stream",
     "text": [
      "yes\n"
     ]
    }
   ],
   "source": [
    "mohit = np.arange(40000).tolist()\n",
    "\n",
    "if 39999 in mohit:\n",
    "    print(\"yes\")"
   ]
  },
  {
   "cell_type": "code",
   "execution_count": 29,
   "id": "e67c5ea6",
   "metadata": {},
   "outputs": [
    {
     "data": {
      "text/plain": [
       "False"
      ]
     },
     "execution_count": 29,
     "metadata": {},
     "output_type": "execute_result"
    }
   ],
   "source": [
    "\"1\" in mohit"
   ]
  },
  {
   "cell_type": "code",
   "execution_count": 9,
   "id": "b157d193",
   "metadata": {},
   "outputs": [],
   "source": [
    "n = 0"
   ]
  },
  {
   "cell_type": "code",
   "execution_count": 11,
   "id": "6951b4d2",
   "metadata": {},
   "outputs": [
    {
     "name": "stdout",
     "output_type": "stream",
     "text": [
      "yes\n"
     ]
    }
   ],
   "source": [
    "if \"5\" in mohit and n==0:\n",
    "    print(\"yes\")"
   ]
  },
  {
   "cell_type": "code",
   "execution_count": 60,
   "id": "f08f7a8b",
   "metadata": {},
   "outputs": [
    {
     "name": "stdout",
     "output_type": "stream",
     "text": [
      "yes\n"
     ]
    }
   ],
   "source": [
    "name = \"mohit\"\n",
    "\n",
    "if name.index(\"t\") == len(name)-1:\n",
    "    print(\"yes\")"
   ]
  },
  {
   "cell_type": "code",
   "execution_count": 63,
   "id": "fc77ded6",
   "metadata": {},
   "outputs": [
    {
     "data": {
      "text/plain": [
       "True"
      ]
     },
     "execution_count": 63,
     "metadata": {},
     "output_type": "execute_result"
    }
   ],
   "source": [
    "len('पकिर') == 4"
   ]
  },
  {
   "cell_type": "code",
   "execution_count": 155,
   "id": "3d1d9a77",
   "metadata": {},
   "outputs": [
    {
     "data": {
      "text/plain": [
       "10"
      ]
     },
     "execution_count": 155,
     "metadata": {},
     "output_type": "execute_result"
    }
   ],
   "source": [
    "name = \"जैनुलाब्दीन\"\n",
    "\n",
    "name.index(\"न\",-1)"
   ]
  },
  {
   "cell_type": "code",
   "execution_count": 169,
   "id": "ae4461b7",
   "metadata": {},
   "outputs": [],
   "source": [
    "sd.play(chard[2])"
   ]
  },
  {
   "cell_type": "code",
   "execution_count": 52,
   "id": "cfccbcfb",
   "metadata": {},
   "outputs": [
    {
     "data": {
      "text/plain": [
       "[1, 2, 3, 4, 5, 1, 2, 3, 4, 5]"
      ]
     },
     "execution_count": 52,
     "metadata": {},
     "output_type": "execute_result"
    }
   ],
   "source": [
    "lis1 = [1,2,3,4,5]\n",
    "lis2 = [1,2,3,4,5]\n",
    "\n",
    "lis1+lis2"
   ]
  },
  {
   "cell_type": "code",
   "execution_count": 53,
   "id": "4b80735b",
   "metadata": {},
   "outputs": [
    {
     "name": "stdout",
     "output_type": "stream",
     "text": [
      "[1, 2, 3, 4, 5, 1, 2, 3, 4, 5]\n"
     ]
    }
   ],
   "source": [
    "lis1.extend(lis2)\n",
    "print(lis1)"
   ]
  },
  {
   "cell_type": "code",
   "execution_count": null,
   "id": "d6c704d9",
   "metadata": {},
   "outputs": [],
   "source": []
  }
 ],
 "metadata": {
  "kernelspec": {
   "display_name": "Python 3 (ipykernel)",
   "language": "python",
   "name": "python3"
  },
  "language_info": {
   "codemirror_mode": {
    "name": "ipython",
    "version": 3
   },
   "file_extension": ".py",
   "mimetype": "text/x-python",
   "name": "python",
   "nbconvert_exporter": "python",
   "pygments_lexer": "ipython3",
   "version": "3.9.6"
  }
 },
 "nbformat": 4,
 "nbformat_minor": 5
}
