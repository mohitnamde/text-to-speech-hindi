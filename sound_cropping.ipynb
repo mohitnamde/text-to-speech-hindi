{
 "cells": [
  {
   "cell_type": "code",
   "execution_count": 3,
   "id": "a74603e3",
   "metadata": {},
   "outputs": [],
   "source": [
    "import matplotlib.pyplot as plt\n",
    "import sounddevice as sd\n",
    "import soundfile as sf\n",
    "from scipy.io.wavfile import write\n",
    "import os"
   ]
  },
  {
   "cell_type": "code",
   "execution_count": 29,
   "id": "39930ded",
   "metadata": {},
   "outputs": [],
   "source": [
    "filesname = os.listdir(\"data//wav//\")\n",
    "# len(filesname) : 478"
   ]
  },
  {
   "cell_type": "code",
   "execution_count": 2620,
   "id": "da07924b",
   "metadata": {},
   "outputs": [
    {
     "name": "stdout",
     "output_type": "stream",
     "text": [
      "०४७६. ज्ञृ.wav\n"
     ]
    },
    {
     "data": {
      "text/plain": [
       "[<matplotlib.lines.Line2D at 0x2587bbdae80>,\n",
       " <matplotlib.lines.Line2D at 0x2587bbdaeb0>]"
      ]
     },
     "execution_count": 2620,
     "metadata": {},
     "output_type": "execute_result"
    },
    {
     "data": {
      "image/png": "[encoded data removed]",
      "text/plain": [
       "<Figure size 432x288 with 1 Axes>"
      ]
     },
     "metadata": {
      "needs_background": "light"
     },
     "output_type": "display_data"
    }
   ],
   "source": [
    "num = 477\n",
    "print(filesname[num])\n",
    "file = \"data//wav//\"+filesname[num]\n",
    "data1, sr = sf.read(file)\n",
    "plo1 = data1[:]\n",
    "sd.play(plo1)\n",
    "plt.plot(plo1)"
   ]
  },
  {
   "cell_type": "code",
   "execution_count": 2618,
   "id": "95ce8ee2",
   "metadata": {},
   "outputs": [
    {
     "name": "stdout",
     "output_type": "stream",
     "text": [
      "०४७६. ज्ञृ.wav\n"
     ]
    }
   ],
   "source": [
    "# Saving \n",
    "path = \"\"\"C:\\\\main_pro\\\\trial_project\\\\HINDI\\\\data\\\\cropd_wav\\\\\"\"\"\n",
    "name = filesname[num]\n",
    "print(name)\n",
    "file = path + name\n",
    "write(file, sr, plo1)  # Save as WAV file "
   ]
  },
  {
   "cell_type": "code",
   "execution_count": null,
   "id": "0c61fae2",
   "metadata": {},
   "outputs": [],
   "source": []
  }
 ],
 "metadata": {
  "kernelspec": {
   "display_name": "Python 3 (ipykernel)",
   "language": "python",
   "name": "python3"
  },
  "language_info": {
   "codemirror_mode": {
    "name": "ipython",
    "version": 3
   },
   "file_extension": ".py",
   "mimetype": "text/x-python",
   "name": "python",
   "nbconvert_exporter": "python",
   "pygments_lexer": "ipython3",
   "version": "3.9.6"
  }
 },
 "nbformat": 4,
 "nbformat_minor": 5
}
